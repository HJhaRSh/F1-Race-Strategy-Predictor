{
  "nbformat": 4,
  "nbformat_minor": 0,
  "metadata": {
    "colab": {
      "provenance": []
    },
    "kernelspec": {
      "name": "python3",
      "display_name": "Python 3"
    },
    "language_info": {
      "name": "python"
    }
  },
  "cells": [
    {
      "cell_type": "code",
      "source": [
        "!pip install fastf1 gradio pandas matplotlib seaborn\n"
      ],
      "metadata": {
        "colab": {
          "base_uri": "https://localhost:8080/"
        },
        "collapsed": true,
        "id": "7LffZWwQZVgL",
        "outputId": "e769a666-ef2d-4fef-eb55-90b013252e98"
      },
      "execution_count": 23,
      "outputs": [
        {
          "output_type": "stream",
          "name": "stdout",
          "text": [
            "Requirement already satisfied: fastf1 in /usr/local/lib/python3.11/dist-packages (3.5.0)\n",
            "Requirement already satisfied: gradio in /usr/local/lib/python3.11/dist-packages (5.20.0)\n",
            "Requirement already satisfied: pandas in /usr/local/lib/python3.11/dist-packages (2.2.3)\n",
            "Requirement already satisfied: matplotlib in /usr/local/lib/python3.11/dist-packages (3.10.1)\n",
            "Requirement already satisfied: seaborn in /usr/local/lib/python3.11/dist-packages (0.13.2)\n",
            "Requirement already satisfied: numpy<3.0.0,>=1.23.1 in /usr/local/lib/python3.11/dist-packages (from fastf1) (1.26.4)\n",
            "Requirement already satisfied: python-dateutil in /usr/local/lib/python3.11/dist-packages (from fastf1) (2.8.2)\n",
            "Requirement already satisfied: rapidfuzz in /usr/local/lib/python3.11/dist-packages (from fastf1) (3.12.2)\n",
            "Requirement already satisfied: requests-cache>=1.0.0 in /usr/local/lib/python3.11/dist-packages (from fastf1) (1.2.1)\n",
            "Requirement already satisfied: requests>=2.28.1 in /usr/local/lib/python3.11/dist-packages (from fastf1) (2.32.3)\n",
            "Requirement already satisfied: scipy<2.0.0,>=1.8.1 in /usr/local/lib/python3.11/dist-packages (from fastf1) (1.13.1)\n",
            "Requirement already satisfied: timple>=0.1.6 in /usr/local/lib/python3.11/dist-packages (from fastf1) (0.1.8)\n",
            "Requirement already satisfied: websockets<14,>=10.3 in /usr/local/lib/python3.11/dist-packages (from fastf1) (13.1)\n",
            "Requirement already satisfied: aiofiles<24.0,>=22.0 in /usr/local/lib/python3.11/dist-packages (from gradio) (23.2.1)\n",
            "Requirement already satisfied: anyio<5.0,>=3.0 in /usr/local/lib/python3.11/dist-packages (from gradio) (3.7.1)\n",
            "Requirement already satisfied: fastapi<1.0,>=0.115.2 in /usr/local/lib/python3.11/dist-packages (from gradio) (0.115.11)\n",
            "Requirement already satisfied: ffmpy in /usr/local/lib/python3.11/dist-packages (from gradio) (0.5.0)\n",
            "Requirement already satisfied: gradio-client==1.7.2 in /usr/local/lib/python3.11/dist-packages (from gradio) (1.7.2)\n",
            "Requirement already satisfied: groovy~=0.1 in /usr/local/lib/python3.11/dist-packages (from gradio) (0.1.2)\n",
            "Requirement already satisfied: httpx>=0.24.1 in /usr/local/lib/python3.11/dist-packages (from gradio) (0.28.1)\n",
            "Requirement already satisfied: huggingface-hub>=0.28.1 in /usr/local/lib/python3.11/dist-packages (from gradio) (0.28.1)\n",
            "Requirement already satisfied: jinja2<4.0 in /usr/local/lib/python3.11/dist-packages (from gradio) (3.1.5)\n",
            "Requirement already satisfied: markupsafe~=2.0 in /usr/local/lib/python3.11/dist-packages (from gradio) (2.1.5)\n",
            "Requirement already satisfied: orjson~=3.0 in /usr/local/lib/python3.11/dist-packages (from gradio) (3.10.15)\n",
            "Requirement already satisfied: packaging in /usr/local/lib/python3.11/dist-packages (from gradio) (24.2)\n",
            "Requirement already satisfied: pillow<12.0,>=8.0 in /usr/local/lib/python3.11/dist-packages (from gradio) (11.1.0)\n",
            "Requirement already satisfied: pydantic>=2.0 in /usr/local/lib/python3.11/dist-packages (from gradio) (2.10.6)\n",
            "Requirement already satisfied: pydub in /usr/local/lib/python3.11/dist-packages (from gradio) (0.25.1)\n",
            "Requirement already satisfied: python-multipart>=0.0.18 in /usr/local/lib/python3.11/dist-packages (from gradio) (0.0.20)\n",
            "Requirement already satisfied: pyyaml<7.0,>=5.0 in /usr/local/lib/python3.11/dist-packages (from gradio) (6.0.2)\n",
            "Requirement already satisfied: ruff>=0.9.3 in /usr/local/lib/python3.11/dist-packages (from gradio) (0.9.9)\n",
            "Requirement already satisfied: safehttpx<0.2.0,>=0.1.6 in /usr/local/lib/python3.11/dist-packages (from gradio) (0.1.6)\n",
            "Requirement already satisfied: semantic-version~=2.0 in /usr/local/lib/python3.11/dist-packages (from gradio) (2.10.0)\n",
            "Requirement already satisfied: starlette<1.0,>=0.40.0 in /usr/local/lib/python3.11/dist-packages (from gradio) (0.46.0)\n",
            "Requirement already satisfied: tomlkit<0.14.0,>=0.12.0 in /usr/local/lib/python3.11/dist-packages (from gradio) (0.13.2)\n",
            "Requirement already satisfied: typer<1.0,>=0.12 in /usr/local/lib/python3.11/dist-packages (from gradio) (0.15.1)\n",
            "Requirement already satisfied: typing-extensions~=4.0 in /usr/local/lib/python3.11/dist-packages (from gradio) (4.12.2)\n",
            "Requirement already satisfied: uvicorn>=0.14.0 in /usr/local/lib/python3.11/dist-packages (from gradio) (0.34.0)\n",
            "Requirement already satisfied: fsspec in /usr/local/lib/python3.11/dist-packages (from gradio-client==1.7.2->gradio) (2024.10.0)\n",
            "Requirement already satisfied: pytz>=2020.1 in /usr/local/lib/python3.11/dist-packages (from pandas) (2025.1)\n",
            "Requirement already satisfied: tzdata>=2022.7 in /usr/local/lib/python3.11/dist-packages (from pandas) (2025.1)\n",
            "Requirement already satisfied: contourpy>=1.0.1 in /usr/local/lib/python3.11/dist-packages (from matplotlib) (1.3.1)\n",
            "Requirement already satisfied: cycler>=0.10 in /usr/local/lib/python3.11/dist-packages (from matplotlib) (0.12.1)\n",
            "Requirement already satisfied: fonttools>=4.22.0 in /usr/local/lib/python3.11/dist-packages (from matplotlib) (4.56.0)\n",
            "Requirement already satisfied: kiwisolver>=1.3.1 in /usr/local/lib/python3.11/dist-packages (from matplotlib) (1.4.8)\n",
            "Requirement already satisfied: pyparsing>=2.3.1 in /usr/local/lib/python3.11/dist-packages (from matplotlib) (3.2.1)\n",
            "Requirement already satisfied: idna>=2.8 in /usr/local/lib/python3.11/dist-packages (from anyio<5.0,>=3.0->gradio) (3.10)\n",
            "Requirement already satisfied: sniffio>=1.1 in /usr/local/lib/python3.11/dist-packages (from anyio<5.0,>=3.0->gradio) (1.3.1)\n",
            "Requirement already satisfied: certifi in /usr/local/lib/python3.11/dist-packages (from httpx>=0.24.1->gradio) (2025.1.31)\n",
            "Requirement already satisfied: httpcore==1.* in /usr/local/lib/python3.11/dist-packages (from httpx>=0.24.1->gradio) (1.0.7)\n",
            "Requirement already satisfied: h11<0.15,>=0.13 in /usr/local/lib/python3.11/dist-packages (from httpcore==1.*->httpx>=0.24.1->gradio) (0.14.0)\n",
            "Requirement already satisfied: filelock in /usr/local/lib/python3.11/dist-packages (from huggingface-hub>=0.28.1->gradio) (3.17.0)\n",
            "Requirement already satisfied: tqdm>=4.42.1 in /usr/local/lib/python3.11/dist-packages (from huggingface-hub>=0.28.1->gradio) (4.67.1)\n",
            "Requirement already satisfied: annotated-types>=0.6.0 in /usr/local/lib/python3.11/dist-packages (from pydantic>=2.0->gradio) (0.7.0)\n",
            "Requirement already satisfied: pydantic-core==2.27.2 in /usr/local/lib/python3.11/dist-packages (from pydantic>=2.0->gradio) (2.27.2)\n",
            "Requirement already satisfied: six>=1.5 in /usr/local/lib/python3.11/dist-packages (from python-dateutil->fastf1) (1.17.0)\n",
            "Requirement already satisfied: charset-normalizer<4,>=2 in /usr/local/lib/python3.11/dist-packages (from requests>=2.28.1->fastf1) (3.4.1)\n",
            "Requirement already satisfied: urllib3<3,>=1.21.1 in /usr/local/lib/python3.11/dist-packages (from requests>=2.28.1->fastf1) (2.3.0)\n",
            "Requirement already satisfied: attrs>=21.2 in /usr/local/lib/python3.11/dist-packages (from requests-cache>=1.0.0->fastf1) (25.1.0)\n",
            "Requirement already satisfied: cattrs>=22.2 in /usr/local/lib/python3.11/dist-packages (from requests-cache>=1.0.0->fastf1) (24.1.2)\n",
            "Requirement already satisfied: platformdirs>=2.5 in /usr/local/lib/python3.11/dist-packages (from requests-cache>=1.0.0->fastf1) (4.3.6)\n",
            "Requirement already satisfied: url-normalize>=1.4 in /usr/local/lib/python3.11/dist-packages (from requests-cache>=1.0.0->fastf1) (1.4.3)\n",
            "Requirement already satisfied: click>=8.0.0 in /usr/local/lib/python3.11/dist-packages (from typer<1.0,>=0.12->gradio) (8.1.8)\n",
            "Requirement already satisfied: shellingham>=1.3.0 in /usr/local/lib/python3.11/dist-packages (from typer<1.0,>=0.12->gradio) (1.5.4)\n",
            "Requirement already satisfied: rich>=10.11.0 in /usr/local/lib/python3.11/dist-packages (from typer<1.0,>=0.12->gradio) (13.9.4)\n",
            "Requirement already satisfied: markdown-it-py>=2.2.0 in /usr/local/lib/python3.11/dist-packages (from rich>=10.11.0->typer<1.0,>=0.12->gradio) (3.0.0)\n",
            "Requirement already satisfied: pygments<3.0.0,>=2.13.0 in /usr/local/lib/python3.11/dist-packages (from rich>=10.11.0->typer<1.0,>=0.12->gradio) (2.18.0)\n",
            "Requirement already satisfied: mdurl~=0.1 in /usr/local/lib/python3.11/dist-packages (from markdown-it-py>=2.2.0->rich>=10.11.0->typer<1.0,>=0.12->gradio) (0.1.2)\n"
          ]
        }
      ]
    },
    {
      "cell_type": "code",
      "source": [
        "import fastf1\n",
        "import pandas as pd\n",
        "import matplotlib.pyplot as plt\n",
        "import seaborn as sns\n",
        "import gradio as gr\n",
        "import time\n",
        "fastf1.Cache.enable_cache('cache')  # Creates a cache directory for faster data access\n"
      ],
      "metadata": {
        "id": "7h3IeedVZbtm"
      },
      "execution_count": 24,
      "outputs": []
    },
    {
      "cell_type": "code",
      "source": [
        "def get_all_gps(year):\n",
        "    schedule = fastf1.get_event_schedule(year)\n",
        "    return list(schedule[\"EventName\"])\n"
      ],
      "metadata": {
        "id": "vU_Q9irgZerf"
      },
      "execution_count": 25,
      "outputs": []
    },
    {
      "cell_type": "code",
      "source": [
        "import fastf1\n",
        "import pandas as pd\n",
        "import numpy as np\n",
        "import matplotlib.pyplot as plt\n",
        "import seaborn as sns\n",
        "import gradio as gr\n",
        "import os\n",
        "\n",
        "# ✅ Ensure Cache Directory Exists\n",
        "if not os.path.exists(\"cache\"):\n",
        "    os.makedirs(\"cache\")\n",
        "fastf1.Cache.enable_cache(\"cache\")\n",
        "\n",
        "# 📊 **Main Race Analysis Function**\n",
        "def analyze_race(year, gp_name):\n",
        "    try:\n",
        "        print(f\"🔄 Fetching session for {gp_name} GP {year}...\")\n",
        "        session = fastf1.get_session(year, gp_name, 'R')\n",
        "\n",
        "        print(\"📥 Loading session data...\")\n",
        "        session.load()\n",
        "\n",
        "        if session.laps.empty:\n",
        "            return \"⚠ No lap data available.\", None, None, None, None, None, None, None\n",
        "\n",
        "        print(\"✅ Data Loaded Successfully!\")\n",
        "\n",
        "        # Extract Data\n",
        "        laps = session.laps\n",
        "        weather_data = session.weather_data\n",
        "\n",
        "        # 🔄 **Extract Tyre Strategy**\n",
        "        pit_stops = laps[[\"Driver\", \"LapNumber\", \"Compound\"]].dropna()\n",
        "\n",
        "        # 📈 **Lap Time Visualization**\n",
        "        fig1, ax1 = plt.subplots(figsize=(10, 5))\n",
        "        for driver in pd.unique(laps['Driver']):\n",
        "            driver_laps = laps.pick_driver(driver)\n",
        "            ax1.plot(driver_laps['LapNumber'], driver_laps['LapTime'].dt.total_seconds(), label=driver)\n",
        "        ax1.set_xlabel('Lap Number')\n",
        "        ax1.set_ylabel('Lap Time (seconds)')\n",
        "        ax1.set_title(f'Lap Times - {gp_name} GP {year}')\n",
        "        ax1.legend()\n",
        "\n",
        "        # 🌦️ **Weather Data Visualization**\n",
        "        fig2, ax2 = plt.subplots(figsize=(10, 5))\n",
        "        ax2.plot(weather_data['Time'], weather_data['AirTemp'], label=\"Air Temp (°C)\", color=\"red\")\n",
        "        ax2.plot(weather_data['Time'], weather_data['TrackTemp'], label=\"Track Temp (°C)\", color=\"blue\")\n",
        "        ax2.set_xlabel('Time')\n",
        "        ax2.set_ylabel('Temperature (°C)')\n",
        "        ax2.set_title(f'Weather Conditions - {gp_name} GP {year}')\n",
        "        ax2.legend()\n",
        "\n",
        "        # 🏎️ **Tyre Strategy Visualization**\n",
        "        fig3, ax3 = plt.subplots(figsize=(10, 5))\n",
        "        sns.barplot(x=\"LapNumber\", y=\"Driver\", hue=\"Compound\", data=pit_stops, ax=ax3)\n",
        "        ax3.set_xlabel(\"Lap Number\")\n",
        "        ax3.set_ylabel(\"Driver\")\n",
        "        ax3.set_title(f\"Tyre Strategy - {gp_name} GP {year}\")\n",
        "\n",
        "        # 🏁 **Overtakes Per Driver**\n",
        "        fig4, ax4 = plt.subplots(figsize=(10, 5))\n",
        "        overtake_counts = laps.groupby('Driver')['LapNumber'].count().sort_values(ascending=False)\n",
        "        sns.barplot(x=overtake_counts.index, y=overtake_counts.values, ax=ax4)\n",
        "        ax4.set_xlabel(\"Driver\")\n",
        "        ax4.set_ylabel(\"Overtakes\")\n",
        "        ax4.set_title(f\"Overtakes per Driver - {gp_name} GP {year}\")\n",
        "\n",
        "        # 🔥 **Fastest Lap per Driver**\n",
        "        fig5, ax5 = plt.subplots(figsize=(10, 5))\n",
        "        fastest_laps = laps.loc[laps.groupby('Driver')['LapTime'].idxmin()]\n",
        "        sns.scatterplot(x=fastest_laps['Driver'], y=fastest_laps['LapTime'].dt.total_seconds(), color='red', ax=ax5)\n",
        "        ax5.set_xlabel(\"Driver\")\n",
        "        ax5.set_ylabel(\"Fastest Lap Time (seconds)\")\n",
        "        ax5.set_title(f\"Fastest Lap per Driver - {gp_name} GP {year}\")\n",
        "\n",
        "        # 🏎️ **Race Pace Comparison (Rolling Avg Lap Time)**\n",
        "        fig6, ax6 = plt.subplots(figsize=(10, 5))\n",
        "        for driver in pd.unique(laps['Driver']):\n",
        "            driver_laps = laps.pick_driver(driver)\n",
        "            ax6.plot(driver_laps['LapNumber'], driver_laps['LapTime'].dt.total_seconds().rolling(5).mean(), label=driver)\n",
        "        ax6.set_xlabel('Lap Number')\n",
        "        ax6.set_ylabel('Rolling Avg Lap Time (5 Laps)')\n",
        "        ax6.set_title(f'Race Pace Comparison - {gp_name} GP {year}')\n",
        "        ax6.legend()\n",
        "\n",
        "        # 📉 **Tyre Degradation Trends**\n",
        "        fig7, ax7 = plt.subplots(figsize=(10, 5))\n",
        "        for driver in pd.unique(laps['Driver']):\n",
        "            driver_laps = laps.pick_driver(driver)\n",
        "            ax7.plot(driver_laps['LapNumber'], driver_laps['LapTime'].dt.total_seconds(), label=driver)\n",
        "        ax7.set_xlabel('Lap Number')\n",
        "        ax7.set_ylabel('Lap Time (seconds)')\n",
        "        ax7.set_title(f'Tyre Degradation Trends - {gp_name} GP {year}')\n",
        "        ax7.legend()\n",
        "\n",
        "        return fig1, fig2, fig3, fig4, fig5, fig6, fig7\n",
        "\n",
        "    except Exception as e:\n",
        "        return f\"❌ Error: {str(e)}\", None, None, None, None, None, None, None\n",
        "\n",
        "\n",
        "# 🚀 **Gradio UI for User Input**\n",
        "def gradio_interface(year, gp_name):\n",
        "    return analyze_race(int(year), gp_name)\n",
        "\n",
        "# ✅ Available Grand Prix Races\n",
        "grand_prix_options = [\n",
        "    \"Bahrain\", \"Saudi Arabia\", \"Australia\", \"Azerbaijan\", \"Miami\",\n",
        "    \"Imola\", \"Monaco\", \"Spain\", \"Canada\", \"Austria\",\n",
        "    \"Britain\", \"Hungary\", \"Belgium\", \"Netherlands\", \"Italy\",\n",
        "    \"Singapore\", \"Japan\", \"Qatar\", \"USA\", \"Mexico\", \"Brazil\",\n",
        "    \"Las Vegas\", \"Abu Dhabi\"\n",
        "]\n",
        "\n",
        "# 🎨 **Create Gradio App**\n",
        "iface = gr.Interface(\n",
        "    fn=gradio_interface,\n",
        "    inputs=[\n",
        "        gr.Dropdown(choices=[str(y) for y in range(2018, 2025)], label=\"Year\"),\n",
        "        gr.Dropdown(choices=grand_prix_options, label=\"Grand Prix\"),\n",
        "    ],\n",
        "    outputs=[\n",
        "        gr.Plot(label=\"Lap Times\"),\n",
        "        gr.Plot(label=\"Weather Conditions\"),\n",
        "        gr.Plot(label=\"Tyre Strategy\"),\n",
        "        gr.Plot(label=\"Overtakes per Driver\"),\n",
        "        gr.Plot(label=\"Fastest Lap per Driver\"),\n",
        "        gr.Plot(label=\"Race Pace Comparison\"),\n",
        "        gr.Plot(label=\"Tyre Degradation Trends\"),\n",
        "    ],\n",
        "    title=\"🏎️ F1 Race Strategy & Analysis\",\n",
        "    description=\"Select a race year and Grand Prix to visualize strategy insights.\"\n",
        ")\n",
        "\n",
        "# 🌐 **Launch Gradio Web App**\n",
        "iface.launch()\n"
      ],
      "metadata": {
        "colab": {
          "base_uri": "https://localhost:8080/",
          "height": 646
        },
        "id": "1zFiCF6TcRt-",
        "outputId": "557b49fd-8558-4405-9b45-c89994e39508"
      },
      "execution_count": 30,
      "outputs": [
        {
          "output_type": "stream",
          "name": "stdout",
          "text": [
            "Running Gradio in a Colab notebook requires sharing enabled. Automatically setting `share=True` (you can turn this off by setting `share=False` in `launch()` explicitly).\n",
            "\n",
            "Colab notebook detected. To show errors in colab notebook, set debug=True in launch()\n",
            "* Running on public URL: https://9f4c70410085a82591.gradio.live\n",
            "\n",
            "This share link expires in 72 hours. For free permanent hosting and GPU upgrades, run `gradio deploy` from the terminal in the working directory to deploy to Hugging Face Spaces (https://huggingface.co/spaces)\n"
          ]
        },
        {
          "output_type": "display_data",
          "data": {
            "text/plain": [
              "<IPython.core.display.HTML object>"
            ],
            "text/html": [
              "<div><iframe src=\"https://9f4c70410085a82591.gradio.live\" width=\"100%\" height=\"500\" allow=\"autoplay; camera; microphone; clipboard-read; clipboard-write;\" frameborder=\"0\" allowfullscreen></iframe></div>"
            ]
          },
          "metadata": {}
        },
        {
          "output_type": "execute_result",
          "data": {
            "text/plain": []
          },
          "metadata": {},
          "execution_count": 30
        }
      ]
    }
  ]
}